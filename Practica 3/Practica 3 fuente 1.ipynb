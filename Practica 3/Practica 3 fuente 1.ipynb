{
 "cells": [
  {
   "cell_type": "markdown",
   "metadata": {},
   "source": [
    "# big five personality"
   ]
  },
  {
   "cell_type": "markdown",
   "metadata": {},
   "source": [
    "<img src=\"big_five.png\">"
   ]
  },
  {
   "cell_type": "markdown",
   "metadata": {},
   "source": [
    "Esta practica consiste en la limpieza del dataset big-five-personality-test contenido en  https://www.kaggle.com/tunguz/big-five-personality-test"
   ]
  },
  {
   "cell_type": "code",
   "execution_count": 1,
   "metadata": {},
   "outputs": [],
   "source": [
    "import pandas as pd\n",
    "import numpy as np\n",
    "import seaborn as sns\n",
    "\n",
    "import matplotlib.pyplot as plt\n",
    "import matplotlib.mlab as mlab\n",
    "import matplotlib\n",
    "plt.style.use('ggplot')\n",
    "\n",
    "%matplotlib inline\n",
    "matplotlib.rcParams['figure.figsize'] = (12,8)"
   ]
  },
  {
   "cell_type": "markdown",
   "metadata": {},
   "source": [
    "### Exploración de los datos "
   ]
  },
  {
   "cell_type": "code",
   "execution_count": 2,
   "metadata": {},
   "outputs": [
    {
     "data": {
      "text/html": [
       "<div>\n",
       "<style scoped>\n",
       "    .dataframe tbody tr th:only-of-type {\n",
       "        vertical-align: middle;\n",
       "    }\n",
       "\n",
       "    .dataframe tbody tr th {\n",
       "        vertical-align: top;\n",
       "    }\n",
       "\n",
       "    .dataframe thead th {\n",
       "        text-align: right;\n",
       "    }\n",
       "</style>\n",
       "<table border=\"1\" class=\"dataframe\">\n",
       "  <thead>\n",
       "    <tr style=\"text-align: right;\">\n",
       "      <th></th>\n",
       "      <th>EXT1</th>\n",
       "      <th>EXT2</th>\n",
       "      <th>EXT3</th>\n",
       "      <th>EXT4</th>\n",
       "      <th>EXT5</th>\n",
       "      <th>EXT6</th>\n",
       "      <th>EXT7</th>\n",
       "      <th>EXT8</th>\n",
       "      <th>EXT9</th>\n",
       "      <th>EXT10</th>\n",
       "      <th>...</th>\n",
       "      <th>dateload</th>\n",
       "      <th>screenw</th>\n",
       "      <th>screenh</th>\n",
       "      <th>introelapse</th>\n",
       "      <th>testelapse</th>\n",
       "      <th>endelapse</th>\n",
       "      <th>IPC</th>\n",
       "      <th>country</th>\n",
       "      <th>lat_appx_lots_of_err</th>\n",
       "      <th>long_appx_lots_of_err</th>\n",
       "    </tr>\n",
       "  </thead>\n",
       "  <tbody>\n",
       "    <tr>\n",
       "      <td>0</td>\n",
       "      <td>4.0</td>\n",
       "      <td>1.0</td>\n",
       "      <td>5.0</td>\n",
       "      <td>2.0</td>\n",
       "      <td>5.0</td>\n",
       "      <td>1.0</td>\n",
       "      <td>5.0</td>\n",
       "      <td>2.0</td>\n",
       "      <td>4.0</td>\n",
       "      <td>1.0</td>\n",
       "      <td>...</td>\n",
       "      <td>2016-03-03 02:01:01</td>\n",
       "      <td>768.0</td>\n",
       "      <td>1024.0</td>\n",
       "      <td>9.0</td>\n",
       "      <td>234.0</td>\n",
       "      <td>6</td>\n",
       "      <td>1</td>\n",
       "      <td>GB</td>\n",
       "      <td>51.5448</td>\n",
       "      <td>0.1991</td>\n",
       "    </tr>\n",
       "    <tr>\n",
       "      <td>1</td>\n",
       "      <td>3.0</td>\n",
       "      <td>5.0</td>\n",
       "      <td>3.0</td>\n",
       "      <td>4.0</td>\n",
       "      <td>3.0</td>\n",
       "      <td>3.0</td>\n",
       "      <td>2.0</td>\n",
       "      <td>5.0</td>\n",
       "      <td>1.0</td>\n",
       "      <td>5.0</td>\n",
       "      <td>...</td>\n",
       "      <td>2016-03-03 02:01:20</td>\n",
       "      <td>1360.0</td>\n",
       "      <td>768.0</td>\n",
       "      <td>12.0</td>\n",
       "      <td>179.0</td>\n",
       "      <td>11</td>\n",
       "      <td>1</td>\n",
       "      <td>MY</td>\n",
       "      <td>3.1698</td>\n",
       "      <td>101.706</td>\n",
       "    </tr>\n",
       "    <tr>\n",
       "      <td>2</td>\n",
       "      <td>2.0</td>\n",
       "      <td>3.0</td>\n",
       "      <td>4.0</td>\n",
       "      <td>4.0</td>\n",
       "      <td>3.0</td>\n",
       "      <td>2.0</td>\n",
       "      <td>1.0</td>\n",
       "      <td>3.0</td>\n",
       "      <td>2.0</td>\n",
       "      <td>5.0</td>\n",
       "      <td>...</td>\n",
       "      <td>2016-03-03 02:01:56</td>\n",
       "      <td>1366.0</td>\n",
       "      <td>768.0</td>\n",
       "      <td>3.0</td>\n",
       "      <td>186.0</td>\n",
       "      <td>7</td>\n",
       "      <td>1</td>\n",
       "      <td>GB</td>\n",
       "      <td>54.9119</td>\n",
       "      <td>-1.3833</td>\n",
       "    </tr>\n",
       "    <tr>\n",
       "      <td>3</td>\n",
       "      <td>2.0</td>\n",
       "      <td>2.0</td>\n",
       "      <td>2.0</td>\n",
       "      <td>3.0</td>\n",
       "      <td>4.0</td>\n",
       "      <td>2.0</td>\n",
       "      <td>2.0</td>\n",
       "      <td>4.0</td>\n",
       "      <td>1.0</td>\n",
       "      <td>4.0</td>\n",
       "      <td>...</td>\n",
       "      <td>2016-03-03 02:02:02</td>\n",
       "      <td>1920.0</td>\n",
       "      <td>1200.0</td>\n",
       "      <td>186.0</td>\n",
       "      <td>219.0</td>\n",
       "      <td>7</td>\n",
       "      <td>1</td>\n",
       "      <td>GB</td>\n",
       "      <td>51.75</td>\n",
       "      <td>-1.25</td>\n",
       "    </tr>\n",
       "    <tr>\n",
       "      <td>4</td>\n",
       "      <td>3.0</td>\n",
       "      <td>3.0</td>\n",
       "      <td>3.0</td>\n",
       "      <td>3.0</td>\n",
       "      <td>5.0</td>\n",
       "      <td>3.0</td>\n",
       "      <td>3.0</td>\n",
       "      <td>5.0</td>\n",
       "      <td>3.0</td>\n",
       "      <td>4.0</td>\n",
       "      <td>...</td>\n",
       "      <td>2016-03-03 02:02:57</td>\n",
       "      <td>1366.0</td>\n",
       "      <td>768.0</td>\n",
       "      <td>8.0</td>\n",
       "      <td>315.0</td>\n",
       "      <td>17</td>\n",
       "      <td>2</td>\n",
       "      <td>KE</td>\n",
       "      <td>1.0</td>\n",
       "      <td>38.0</td>\n",
       "    </tr>\n",
       "  </tbody>\n",
       "</table>\n",
       "<p>5 rows × 110 columns</p>\n",
       "</div>"
      ],
      "text/plain": [
       "   EXT1  EXT2  EXT3  EXT4  EXT5  EXT6  EXT7  EXT8  EXT9  EXT10  ...  \\\n",
       "0   4.0   1.0   5.0   2.0   5.0   1.0   5.0   2.0   4.0    1.0  ...   \n",
       "1   3.0   5.0   3.0   4.0   3.0   3.0   2.0   5.0   1.0    5.0  ...   \n",
       "2   2.0   3.0   4.0   4.0   3.0   2.0   1.0   3.0   2.0    5.0  ...   \n",
       "3   2.0   2.0   2.0   3.0   4.0   2.0   2.0   4.0   1.0    4.0  ...   \n",
       "4   3.0   3.0   3.0   3.0   5.0   3.0   3.0   5.0   3.0    4.0  ...   \n",
       "\n",
       "              dateload  screenw  screenh  introelapse  testelapse  endelapse  \\\n",
       "0  2016-03-03 02:01:01    768.0   1024.0          9.0       234.0          6   \n",
       "1  2016-03-03 02:01:20   1360.0    768.0         12.0       179.0         11   \n",
       "2  2016-03-03 02:01:56   1366.0    768.0          3.0       186.0          7   \n",
       "3  2016-03-03 02:02:02   1920.0   1200.0        186.0       219.0          7   \n",
       "4  2016-03-03 02:02:57   1366.0    768.0          8.0       315.0         17   \n",
       "\n",
       "   IPC  country  lat_appx_lots_of_err  long_appx_lots_of_err  \n",
       "0    1       GB               51.5448                 0.1991  \n",
       "1    1       MY                3.1698                101.706  \n",
       "2    1       GB               54.9119                -1.3833  \n",
       "3    1       GB                 51.75                  -1.25  \n",
       "4    2       KE                   1.0                   38.0  \n",
       "\n",
       "[5 rows x 110 columns]"
      ]
     },
     "execution_count": 2,
     "metadata": {},
     "output_type": "execute_result"
    }
   ],
   "source": [
    "df = pd.read_csv(\"data-final.csv\",sep='\\t')\n",
    "df.head()"
   ]
  },
  {
   "cell_type": "code",
   "execution_count": 3,
   "metadata": {},
   "outputs": [
    {
     "name": "stdout",
     "output_type": "stream",
     "text": [
      "(1015341, 110)\n",
      "EXT1                     float64\n",
      "EXT2                     float64\n",
      "EXT3                     float64\n",
      "EXT4                     float64\n",
      "EXT5                     float64\n",
      "                          ...   \n",
      "endelapse                  int64\n",
      "IPC                        int64\n",
      "country                   object\n",
      "lat_appx_lots_of_err      object\n",
      "long_appx_lots_of_err     object\n",
      "Length: 110, dtype: object\n"
     ]
    }
   ],
   "source": [
    "#tamaño y tipos de datos del dataset\n",
    "print(df.shape)\n",
    "print(df.dtypes)"
   ]
  },
  {
   "cell_type": "code",
   "execution_count": 4,
   "metadata": {},
   "outputs": [
    {
     "name": "stdout",
     "output_type": "stream",
     "text": [
      "['EXT1' 'EXT2' 'EXT3' 'EXT4' 'EXT5' 'EXT6' 'EXT7' 'EXT8' 'EXT9' 'EXT10'\n",
      " 'EST1' 'EST2' 'EST3' 'EST4' 'EST5' 'EST6' 'EST7' 'EST8' 'EST9' 'EST10'\n",
      " 'AGR1' 'AGR2' 'AGR3' 'AGR4' 'AGR5' 'AGR6' 'AGR7' 'AGR8' 'AGR9' 'AGR10'\n",
      " 'CSN1' 'CSN2' 'CSN3' 'CSN4' 'CSN5' 'CSN6' 'CSN7' 'CSN8' 'CSN9' 'CSN10'\n",
      " 'OPN1' 'OPN2' 'OPN3' 'OPN4' 'OPN5' 'OPN6' 'OPN7' 'OPN8' 'OPN9' 'OPN10'\n",
      " 'EXT1_E' 'EXT2_E' 'EXT3_E' 'EXT4_E' 'EXT5_E' 'EXT6_E' 'EXT7_E' 'EXT8_E'\n",
      " 'EXT9_E' 'EXT10_E' 'EST1_E' 'EST2_E' 'EST3_E' 'EST4_E' 'EST5_E' 'EST6_E'\n",
      " 'EST7_E' 'EST8_E' 'EST9_E' 'EST10_E' 'AGR1_E' 'AGR2_E' 'AGR3_E' 'AGR4_E'\n",
      " 'AGR5_E' 'AGR6_E' 'AGR7_E' 'AGR8_E' 'AGR9_E' 'AGR10_E' 'CSN1_E' 'CSN2_E'\n",
      " 'CSN3_E' 'CSN4_E' 'CSN5_E' 'CSN6_E' 'CSN7_E' 'CSN8_E' 'CSN9_E' 'CSN10_E'\n",
      " 'OPN1_E' 'OPN2_E' 'OPN3_E' 'OPN4_E' 'OPN5_E' 'OPN6_E' 'OPN7_E' 'OPN8_E'\n",
      " 'OPN9_E' 'OPN10_E' 'screenw' 'screenh' 'introelapse' 'testelapse'\n",
      " 'endelapse' 'IPC']\n"
     ]
    }
   ],
   "source": [
    "#Seleccionar columnas numericas\n",
    "df_numerico = df.select_dtypes(include = [np.number])\n",
    "columnas_numericas = df_numerico.columns.values\n",
    "print(columnas_numericas)"
   ]
  },
  {
   "cell_type": "code",
   "execution_count": 5,
   "metadata": {
    "scrolled": true
   },
   "outputs": [
    {
     "name": "stdout",
     "output_type": "stream",
     "text": [
      "['dateload' 'country' 'lat_appx_lots_of_err' 'long_appx_lots_of_err']\n"
     ]
    }
   ],
   "source": [
    "# seleccionar columnas no numericas\n",
    "df_no_numerico = df.select_dtypes(exclude=[np.number])\n",
    "columnas_no_numericas = df_no_numerico.columns.values\n",
    "print(columnas_no_numericas)"
   ]
  },
  {
   "cell_type": "markdown",
   "metadata": {},
   "source": [
    "Se revisó que el conjunto de datos tiene 1,015,341 observaciones y 110 características, tambien se identificaron las caracteristicas numericas o categoricas ahora podemos revisar los datos, para poder identificar mejor las variables podemos observar que:\n",
    "\n",
    "EXT - Questions to measure Extroversion\n",
    "\n",
    "AGR - Questions to measure Agreeableness\n",
    "\n",
    "CSN - Questions to measure Conscientiousness\n",
    "\n",
    "EST - Questions to measure Neuroticism\n",
    "\n",
    "OPN - Questions to measure Openness to Experience\n",
    "\n",
    "y si terminan es _E es por el tiempo que se tomaron contestado la pregunta"
   ]
  },
  {
   "cell_type": "markdown",
   "metadata": {},
   "source": [
    "#### Tecnica #1: Mapa de calor de los datos faltantes "
   ]
  },
  {
   "cell_type": "code",
   "execution_count": 6,
   "metadata": {},
   "outputs": [
    {
     "data": {
      "text/plain": [
       "<matplotlib.axes._subplots.AxesSubplot at 0x7ff9b4917ac8>"
      ]
     },
     "execution_count": 6,
     "metadata": {},
     "output_type": "execute_result"
    },
    {
     "data": {
      "image/png": "[encoded data removed]",
      "text/plain": [
       "<Figure size 432x288 with 2 Axes>"
      ]
     },
     "metadata": {
      "needs_background": "light"
     },
     "output_type": "display_data"
    }
   ],
   "source": [
    "cols = df.columns[:50]\n",
    "colours = ['#EEEDED', '#00B6FF']\n",
    "sns.heatmap(df[cols].isnull(), cmap=sns.color_palette(colours))"
   ]
  },
  {
   "cell_type": "markdown",
   "metadata": {},
   "source": [
    "#### Tecnica #2: Lista de porcentaje de datos faltantes "
   ]
  },
  {
   "cell_type": "code",
   "execution_count": 7,
   "metadata": {},
   "outputs": [
    {
     "name": "stdout",
     "output_type": "stream",
     "text": [
      "EXT1 - 0.18%\n",
      "EXT2 - 0.18%\n",
      "EXT3 - 0.18%\n",
      "EXT4 - 0.18%\n",
      "EXT5 - 0.18%\n",
      "EXT6 - 0.18%\n",
      "EXT7 - 0.18%\n",
      "EXT8 - 0.18%\n",
      "EXT9 - 0.18%\n",
      "EXT10 - 0.18%\n",
      "EST1 - 0.18%\n",
      "EST2 - 0.18%\n",
      "EST3 - 0.18%\n",
      "EST4 - 0.18%\n",
      "EST5 - 0.18%\n",
      "EST6 - 0.18%\n",
      "EST7 - 0.18%\n",
      "EST8 - 0.18%\n",
      "EST9 - 0.18%\n",
      "EST10 - 0.18%\n",
      "AGR1 - 0.18%\n",
      "AGR2 - 0.18%\n",
      "AGR3 - 0.18%\n",
      "AGR4 - 0.18%\n",
      "AGR5 - 0.18%\n",
      "AGR6 - 0.18%\n",
      "AGR7 - 0.18%\n",
      "AGR8 - 0.18%\n",
      "AGR9 - 0.18%\n",
      "AGR10 - 0.18%\n",
      "CSN1 - 0.18%\n",
      "CSN2 - 0.18%\n",
      "CSN3 - 0.18%\n",
      "CSN4 - 0.18%\n",
      "CSN5 - 0.18%\n",
      "CSN6 - 0.18%\n",
      "CSN7 - 0.18%\n",
      "CSN8 - 0.18%\n",
      "CSN9 - 0.18%\n",
      "CSN10 - 0.18%\n",
      "OPN1 - 0.18%\n",
      "OPN2 - 0.18%\n",
      "OPN3 - 0.18%\n",
      "OPN4 - 0.18%\n",
      "OPN5 - 0.18%\n",
      "OPN6 - 0.18%\n",
      "OPN7 - 0.18%\n",
      "OPN8 - 0.18%\n",
      "OPN9 - 0.18%\n",
      "OPN10 - 0.18%\n",
      "EXT1_E - 0.18%\n",
      "EXT2_E - 0.18%\n",
      "EXT3_E - 0.18%\n",
      "EXT4_E - 0.18%\n",
      "EXT5_E - 0.18%\n",
      "EXT6_E - 0.18%\n",
      "EXT7_E - 0.18%\n",
      "EXT8_E - 0.18%\n",
      "EXT9_E - 0.18%\n",
      "EXT10_E - 0.18%\n",
      "EST1_E - 0.18%\n",
      "EST2_E - 0.18%\n",
      "EST3_E - 0.18%\n",
      "EST4_E - 0.18%\n",
      "EST5_E - 0.18%\n",
      "EST6_E - 0.18%\n",
      "EST7_E - 0.18%\n",
      "EST8_E - 0.18%\n",
      "EST9_E - 0.18%\n",
      "EST10_E - 0.18%\n",
      "AGR1_E - 0.18%\n",
      "AGR2_E - 0.18%\n",
      "AGR3_E - 0.18%\n",
      "AGR4_E - 0.18%\n",
      "AGR5_E - 0.18%\n",
      "AGR6_E - 0.18%\n",
      "AGR7_E - 0.18%\n",
      "AGR8_E - 0.18%\n",
      "AGR9_E - 0.18%\n",
      "AGR10_E - 0.18%\n",
      "CSN1_E - 0.18%\n",
      "CSN2_E - 0.18%\n",
      "CSN3_E - 0.18%\n",
      "CSN4_E - 0.18%\n",
      "CSN5_E - 0.18%\n",
      "CSN6_E - 0.18%\n",
      "CSN7_E - 0.18%\n",
      "CSN8_E - 0.18%\n",
      "CSN9_E - 0.18%\n",
      "CSN10_E - 0.18%\n",
      "OPN1_E - 0.18%\n",
      "OPN2_E - 0.18%\n",
      "OPN3_E - 0.18%\n",
      "OPN4_E - 0.18%\n",
      "OPN5_E - 0.18%\n",
      "OPN6_E - 0.18%\n",
      "OPN7_E - 0.18%\n",
      "OPN8_E - 0.18%\n",
      "OPN9_E - 0.18%\n",
      "OPN10_E - 0.18%\n",
      "screenw - 0.2%\n",
      "screenh - 0.2%\n",
      "introelapse - 0.2%\n",
      "testelapse - 0.18%\n",
      "country - 0.01%\n"
     ]
    }
   ],
   "source": [
    "for col in df.columns:\n",
    "    pct_missing = np.mean(df[col].isnull())\n",
    "    if (pct_missing > 0):\n",
    "        print('{} - {}%'.format(col, round(pct_missing*100,2)))"
   ]
  },
  {
   "cell_type": "markdown",
   "metadata": {},
   "source": [
    "Como podemos observar la mayoria de las caracteristicas presenta un 0.18% de datos faltantes siendo introelapse,screenW,screenh las categorias con mas faltantes siendo tan solo el 0.2%"
   ]
  },
  {
   "cell_type": "markdown",
   "metadata": {},
   "source": [
    "#### Tecnica #3: Histograma de datos faltantes "
   ]
  },
  {
   "cell_type": "code",
   "execution_count": 9,
   "metadata": {},
   "outputs": [],
   "source": [
    "aux = df.copy()"
   ]
  },
  {
   "cell_type": "code",
   "execution_count": 19,
   "metadata": {},
   "outputs": [
    {
     "name": "stdout",
     "output_type": "stream",
     "text": [
      "created missing indicator for: EXT1\n",
      "created missing indicator for: EXT2\n",
      "created missing indicator for: EXT3\n",
      "created missing indicator for: EXT4\n",
      "created missing indicator for: EXT5\n",
      "created missing indicator for: EXT6\n",
      "created missing indicator for: EXT7\n",
      "created missing indicator for: EXT8\n",
      "created missing indicator for: EXT9\n",
      "created missing indicator for: EXT10\n",
      "created missing indicator for: EST1\n",
      "created missing indicator for: EST2\n",
      "created missing indicator for: EST3\n",
      "created missing indicator for: EST4\n",
      "created missing indicator for: EST5\n",
      "created missing indicator for: EST6\n",
      "created missing indicator for: EST7\n",
      "created missing indicator for: EST8\n",
      "created missing indicator for: EST9\n",
      "created missing indicator for: EST10\n",
      "created missing indicator for: AGR1\n",
      "created missing indicator for: AGR2\n",
      "created missing indicator for: AGR3\n",
      "created missing indicator for: AGR4\n",
      "created missing indicator for: AGR5\n",
      "created missing indicator for: AGR6\n",
      "created missing indicator for: AGR7\n",
      "created missing indicator for: AGR8\n",
      "created missing indicator for: AGR9\n",
      "created missing indicator for: AGR10\n",
      "created missing indicator for: CSN1\n",
      "created missing indicator for: CSN2\n",
      "created missing indicator for: CSN3\n",
      "created missing indicator for: CSN4\n",
      "created missing indicator for: CSN5\n",
      "created missing indicator for: CSN6\n",
      "created missing indicator for: CSN7\n",
      "created missing indicator for: CSN8\n",
      "created missing indicator for: CSN9\n",
      "created missing indicator for: CSN10\n",
      "created missing indicator for: OPN1\n",
      "created missing indicator for: OPN2\n",
      "created missing indicator for: OPN3\n",
      "created missing indicator for: OPN4\n",
      "created missing indicator for: OPN5\n",
      "created missing indicator for: OPN6\n",
      "created missing indicator for: OPN7\n",
      "created missing indicator for: OPN8\n",
      "created missing indicator for: OPN9\n",
      "created missing indicator for: OPN10\n",
      "created missing indicator for: EXT1_E\n",
      "created missing indicator for: EXT2_E\n",
      "created missing indicator for: EXT3_E\n",
      "created missing indicator for: EXT4_E\n",
      "created missing indicator for: EXT5_E\n",
      "created missing indicator for: EXT6_E\n",
      "created missing indicator for: EXT7_E\n",
      "created missing indicator for: EXT8_E\n",
      "created missing indicator for: EXT9_E\n",
      "created missing indicator for: EXT10_E\n",
      "created missing indicator for: EST1_E\n",
      "created missing indicator for: EST2_E\n",
      "created missing indicator for: EST3_E\n",
      "created missing indicator for: EST4_E\n",
      "created missing indicator for: EST5_E\n",
      "created missing indicator for: EST6_E\n",
      "created missing indicator for: EST7_E\n",
      "created missing indicator for: EST8_E\n",
      "created missing indicator for: EST9_E\n",
      "created missing indicator for: EST10_E\n",
      "created missing indicator for: AGR1_E\n",
      "created missing indicator for: AGR2_E\n",
      "created missing indicator for: AGR3_E\n",
      "created missing indicator for: AGR4_E\n",
      "created missing indicator for: AGR5_E\n",
      "created missing indicator for: AGR6_E\n",
      "created missing indicator for: AGR7_E\n",
      "created missing indicator for: AGR8_E\n",
      "created missing indicator for: AGR9_E\n",
      "created missing indicator for: AGR10_E\n",
      "created missing indicator for: CSN1_E\n",
      "created missing indicator for: CSN2_E\n",
      "created missing indicator for: CSN3_E\n",
      "created missing indicator for: CSN4_E\n",
      "created missing indicator for: CSN5_E\n",
      "created missing indicator for: CSN6_E\n",
      "created missing indicator for: CSN7_E\n",
      "created missing indicator for: CSN8_E\n",
      "created missing indicator for: CSN9_E\n",
      "created missing indicator for: CSN10_E\n",
      "created missing indicator for: OPN1_E\n",
      "created missing indicator for: OPN2_E\n",
      "created missing indicator for: OPN3_E\n",
      "created missing indicator for: OPN4_E\n",
      "created missing indicator for: OPN5_E\n",
      "created missing indicator for: OPN6_E\n",
      "created missing indicator for: OPN7_E\n",
      "created missing indicator for: OPN8_E\n",
      "created missing indicator for: OPN9_E\n",
      "created missing indicator for: OPN10_E\n",
      "created missing indicator for: screenw\n",
      "created missing indicator for: screenh\n",
      "created missing indicator for: introelapse\n",
      "created missing indicator for: testelapse\n",
      "created missing indicator for: country\n"
     ]
    },
    {
     "data": {
      "text/plain": [
       "<matplotlib.axes._subplots.AxesSubplot at 0x7ff9b7588358>"
      ]
     },
     "execution_count": 19,
     "metadata": {},
     "output_type": "execute_result"
    },
    {
     "data": {
      "image/png": "[encoded data removed]",
      "text/plain": [
       "<Figure size 432x288 with 1 Axes>"
      ]
     },
     "metadata": {
      "needs_background": "light"
     },
     "output_type": "display_data"
    }
   ],
   "source": [
    "for col in df.columns:\n",
    "    missing = df[col].isnull()\n",
    "    num_missing = np.sum(missing)\n",
    "    \n",
    "    if num_missing > 0:  \n",
    "        print('created missing indicator for: {}'.format(col))\n",
    "        aux['{}_ismissing'.format(col)] = missing\n",
    "        \n",
    "# then based on the indicator, plot the histogram of missing values\n",
    "ismissing_cols = [col for col in aux.columns if 'ismissing' in col]\n",
    "aux['num_missing'] = aux[ismissing_cols].sum(axis=1)\n",
    "\n",
    "aux['num_missing'].value_counts().reset_index().sort_values(by='index').plot.bar(x='index', y='num_missing')"
   ]
  },
  {
   "cell_type": "code",
   "execution_count": 20,
   "metadata": {},
   "outputs": [
    {
     "data": {
      "text/plain": [
       "0      1012050\n",
       "3         1431\n",
       "101       1148\n",
       "104        635\n",
       "1           77\n",
       "Name: num_missing, dtype: int64"
      ]
     },
     "execution_count": 20,
     "metadata": {},
     "output_type": "execute_result"
    }
   ],
   "source": [
    "aux['num_missing'].value_counts()"
   ]
  },
  {
   "cell_type": "markdown",
   "metadata": {},
   "source": [
    "Aun que para este histograma no se puede observar muy bien podemos identificar que 1,012,050 no contienen valores perdidos, 77 tienen un valor perdido, 1431 observaciones 3, 1148 observaciones 101 y 635 104"
   ]
  },
  {
   "cell_type": "markdown",
   "metadata": {},
   "source": [
    "### Analisis de las caracteristicas"
   ]
  },
  {
   "cell_type": "markdown",
   "metadata": {},
   "source": [
    "#### Técnica #1: Histograma y Box Plot "
   ]
  },
  {
   "cell_type": "markdown",
   "metadata": {},
   "source": [
    "Cuando una característica es numerica se puede utilizar el histograma y el Box Plot para analizar la caracteristica"
   ]
  },
  {
   "cell_type": "code",
   "execution_count": 12,
   "metadata": {},
   "outputs": [
    {
     "data": {
      "text/plain": [
       "<matplotlib.axes._subplots.AxesSubplot at 0x7ff9b7769da0>"
      ]
     },
     "execution_count": 12,
     "metadata": {},
     "output_type": "execute_result"
    },
    {
     "data": {
      "image/png": "[encoded data removed]",
      "text/plain": [
       "<Figure size 432x288 with 1 Axes>"
      ]
     },
     "metadata": {
      "needs_background": "light"
     },
     "output_type": "display_data"
    }
   ],
   "source": [
    "df['testelapse'].hist(bins=100)"
   ]
  },
  {
   "cell_type": "code",
   "execution_count": 13,
   "metadata": {},
   "outputs": [
    {
     "data": {
      "text/plain": [
       "<matplotlib.axes._subplots.AxesSubplot at 0x7ff9b778bef0>"
      ]
     },
     "execution_count": 13,
     "metadata": {},
     "output_type": "execute_result"
    },
    {
     "data": {
      "image/png": "[encoded data removed]",
      "text/plain": [
       "<Figure size 432x288 with 1 Axes>"
      ]
     },
     "metadata": {
      "needs_background": "light"
     },
     "output_type": "display_data"
    }
   ],
   "source": [
    "df.boxplot(column=['testelapse'])"
   ]
  },
  {
   "cell_type": "markdown",
   "metadata": {},
   "source": [
    "#### Técnica #2: Estadistica descriptiva "
   ]
  },
  {
   "cell_type": "code",
   "execution_count": 14,
   "metadata": {},
   "outputs": [
    {
     "data": {
      "text/plain": [
       "count    1.013558e+06\n",
       "mean     6.754233e+02\n",
       "std      2.017864e+04\n",
       "min      1.000000e+00\n",
       "25%      1.710000e+02\n",
       "50%      2.240000e+02\n",
       "75%      3.130000e+02\n",
       "max      1.189272e+07\n",
       "Name: testelapse, dtype: float64"
      ]
     },
     "execution_count": 14,
     "metadata": {},
     "output_type": "execute_result"
    }
   ],
   "source": [
    "df['testelapse'].describe()"
   ]
  },
  {
   "cell_type": "markdown",
   "metadata": {},
   "source": [
    "#### Técnica #3: Gráfico de barras "
   ]
  },
  {
   "cell_type": "markdown",
   "metadata": {},
   "source": [
    "Cuando la característica es categórica podemos usar un gráfico de barras para aprender sobre sus categorías y distribución"
   ]
  },
  {
   "cell_type": "code",
   "execution_count": 15,
   "metadata": {},
   "outputs": [
    {
     "data": {
      "text/plain": [
       "<matplotlib.axes._subplots.AxesSubplot at 0x7ff9b75af390>"
      ]
     },
     "execution_count": 15,
     "metadata": {},
     "output_type": "execute_result"
    },
    {
     "data": {
      "image/png": "[encoded data removed]",
      "text/plain": [
       "<Figure size 432x288 with 1 Axes>"
      ]
     },
     "metadata": {
      "needs_background": "light"
     },
     "output_type": "display_data"
    }
   ],
   "source": [
    "df['EXT1'].value_counts().plot.bar()"
   ]
  },
  {
   "cell_type": "markdown",
   "metadata": {},
   "source": [
    "### Datos innecesarios "
   ]
  },
  {
   "cell_type": "markdown",
   "metadata": {},
   "source": [
    "#### Tipo innecesario #1: Desinformativo / Repetitivo "
   ]
  },
  {
   "cell_type": "code",
   "execution_count": 25,
   "metadata": {},
   "outputs": [],
   "source": [
    "num_rows = len(df.index)\n",
    "low_information_cols = [] #\n",
    "\n",
    "for col in df.columns:\n",
    "    cnts = df[col].value_counts(dropna=False)\n",
    "    top_pct = (cnts/num_rows).iloc[0]\n",
    "    \n",
    "    if top_pct > 0.95:\n",
    "        low_information_cols.append(col)\n",
    "        print('{0}: {1:.5f}%'.format(col, top_pct*100))\n",
    "        print(cnts)\n",
    "        print()"
   ]
  },
  {
   "cell_type": "markdown",
   "metadata": {},
   "source": [
    "#### Tipo innecesario #2:Irrelevante"
   ]
  },
  {
   "cell_type": "markdown",
   "metadata": {},
   "source": [
    "En este tipo de datos innecesario depende del problema que estamos tratando de resolver para decidir si una caracteristica es irrelevante o no"
   ]
  },
  {
   "cell_type": "markdown",
   "metadata": {},
   "source": [
    "#### Tipo innecesario #3: Duplicados "
   ]
  },
  {
   "cell_type": "markdown",
   "metadata": {},
   "source": [
    "En este dataset no cuenta con un indentificador para cada observación y se permite que pueda haber más de dos observaciones iguales"
   ]
  },
  {
   "cell_type": "markdown",
   "metadata": {},
   "source": [
    "### Datos inconsistentes "
   ]
  },
  {
   "cell_type": "markdown",
   "metadata": {},
   "source": [
    "#### Tipo inconsistente #1: Capitalización  "
   ]
  },
  {
   "cell_type": "markdown",
   "metadata": {},
   "source": [
    "El uso inconsistente de las mayúsculas y minúsculas en los valores categóricos es un error común. Podría causar problemas ya que los análisis en Python son sensibles a las mayúsculas y minúsculas, pero el dataset no contiene caracteristicas que puedan presentar este tipo de incostencias"
   ]
  },
  {
   "cell_type": "markdown",
   "metadata": {},
   "source": [
    "#### Tipo inconsitente #2: Formatos"
   ]
  },
  {
   "cell_type": "markdown",
   "metadata": {},
   "source": [
    "Otra estandarización que debemos realizar es la de los formatos de datos. Un ejemplo es convertir la característica dateload al formato DateTime"
   ]
  },
  {
   "cell_type": "code",
   "execution_count": 43,
   "metadata": {},
   "outputs": [
    {
     "data": {
      "text/plain": [
       "dateload    object\n",
       "dtype: object"
      ]
     },
     "execution_count": 43,
     "metadata": {},
     "output_type": "execute_result"
    }
   ],
   "source": [
    "df[['dateload']].dtypes"
   ]
  },
  {
   "cell_type": "code",
   "execution_count": 44,
   "metadata": {},
   "outputs": [
    {
     "data": {
      "text/plain": [
       "2018-09-07 08:58:05    9\n",
       "2018-09-07 05:25:34    8\n",
       "2018-04-02 15:22:44    8\n",
       "2018-09-13 20:40:14    8\n",
       "2018-09-04 08:27:27    7\n",
       "                      ..\n",
       "2018-06-19 12:32:40    1\n",
       "2017-08-01 04:18:13    1\n",
       "2016-03-23 08:21:24    1\n",
       "2016-05-04 09:43:51    1\n",
       "2016-03-08 07:03:46    1\n",
       "Name: dateload, Length: 1000680, dtype: int64"
      ]
     },
     "execution_count": 44,
     "metadata": {},
     "output_type": "execute_result"
    }
   ],
   "source": [
    "df.dateload.value_counts()"
   ]
  },
  {
   "cell_type": "code",
   "execution_count": 50,
   "metadata": {},
   "outputs": [],
   "source": [
    "df['dateload'] = pd.to_datetime(df['dateload'],format='%Y-%m-%d')"
   ]
  },
  {
   "cell_type": "code",
   "execution_count": 51,
   "metadata": {},
   "outputs": [
    {
     "data": {
      "text/plain": [
       "2016-05-24    5545\n",
       "2016-05-25    4355\n",
       "2016-04-08    4186\n",
       "2016-12-12    3760\n",
       "2018-09-17    3513\n",
       "              ... \n",
       "2017-01-01     315\n",
       "2017-10-07     305\n",
       "2017-10-21     282\n",
       "2017-10-14     277\n",
       "2016-12-31     268\n",
       "Name: dateload, Length: 981, dtype: int64"
      ]
     },
     "execution_count": 51,
     "metadata": {},
     "output_type": "execute_result"
    }
   ],
   "source": [
    "df.dateload.value_counts()"
   ]
  },
  {
   "cell_type": "markdown",
   "metadata": {},
   "source": [
    "#### Tipo inconsistente #3: Valores categoricos "
   ]
  },
  {
   "cell_type": "markdown",
   "metadata": {},
   "source": [
    "Una característica categórica tiene un número limitado de valores (símbolos). A veces puede haber otros valores debido a razones como los errores tipográficos, pero el dataset no contiene caracteristicas que puedan presentar este tipo de incostencias"
   ]
  },
  {
   "cell_type": "markdown",
   "metadata": {},
   "source": [
    "####  Tipo inconsistente #4: Direcciones"
   ]
  },
  {
   "cell_type": "markdown",
   "metadata": {},
   "source": [
    "La característica de la dirección podría ser un dolor de cabeza para muchos de nosotros. Porque la gente que introduce los datos en la base de datos a menudo no sigue un formato estándar,pero el dataset no contiene caracteristicas que puedan presentar este tipo de incostencias"
   ]
  }
 ],
 "metadata": {
  "kernelspec": {
   "display_name": "Python 3",
   "language": "python",
   "name": "python3"
  },
  "language_info": {
   "codemirror_mode": {
    "name": "ipython",
    "version": 3
   },
   "file_extension": ".py",
   "mimetype": "text/x-python",
   "name": "python",
   "nbconvert_exporter": "python",
   "pygments_lexer": "ipython3",
   "version": "3.6.8"
  }
 },
 "nbformat": 4,
 "nbformat_minor": 2
}
