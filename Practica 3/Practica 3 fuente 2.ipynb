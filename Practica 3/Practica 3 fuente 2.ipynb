{
 "cells": [
  {
   "cell_type": "markdown",
   "metadata": {},
   "source": [
    "## Fifa 20 "
   ]
  },
  {
   "cell_type": "markdown",
   "metadata": {},
   "source": [
    "<img src=\"fifa.jpg\">"
   ]
  },
  {
   "cell_type": "markdown",
   "metadata": {},
   "source": [
    "Esta practica consiste en realizar una pequeña limpieza o depuracion de los datos del dataset que contiene las caracteristicas de los jugadores en el juego de FIFA 20 contenido en https://www.kaggle.com/stefanoleone992/fifa-20-complete-player-dataset"
   ]
  },
  {
   "cell_type": "code",
   "execution_count": 1,
   "metadata": {},
   "outputs": [],
   "source": [
    "import pandas as pd\n",
    "import numpy as np\n",
    "import seaborn as sns\n",
    "\n",
    "import matplotlib.pyplot as plt\n",
    "import matplotlib.mlab as mlab\n",
    "import matplotlib\n",
    "plt.style.use('ggplot')\n",
    "from matplotlib.pyplot import figure\n",
    "\n",
    "%matplotlib inline\n",
    "matplotlib.rcParams['figure.figsize'] = (12,8)\n",
    "\n",
    "pd.options.mode.chained_assignment = None"
   ]
  },
  {
   "cell_type": "code",
   "execution_count": 2,
   "metadata": {
    "scrolled": true
   },
   "outputs": [
    {
     "data": {
      "text/html": [
       "<div>\n",
       "<style scoped>\n",
       "    .dataframe tbody tr th:only-of-type {\n",
       "        vertical-align: middle;\n",
       "    }\n",
       "\n",
       "    .dataframe tbody tr th {\n",
       "        vertical-align: top;\n",
       "    }\n",
       "\n",
       "    .dataframe thead th {\n",
       "        text-align: right;\n",
       "    }\n",
       "</style>\n",
       "<table border=\"1\" class=\"dataframe\">\n",
       "  <thead>\n",
       "    <tr style=\"text-align: right;\">\n",
       "      <th></th>\n",
       "      <th>sofifa_id</th>\n",
       "      <th>player_url</th>\n",
       "      <th>short_name</th>\n",
       "      <th>long_name</th>\n",
       "      <th>age</th>\n",
       "      <th>dob</th>\n",
       "      <th>height_cm</th>\n",
       "      <th>weight_kg</th>\n",
       "      <th>nationality</th>\n",
       "      <th>club</th>\n",
       "      <th>...</th>\n",
       "      <th>lwb</th>\n",
       "      <th>ldm</th>\n",
       "      <th>cdm</th>\n",
       "      <th>rdm</th>\n",
       "      <th>rwb</th>\n",
       "      <th>lb</th>\n",
       "      <th>lcb</th>\n",
       "      <th>cb</th>\n",
       "      <th>rcb</th>\n",
       "      <th>rb</th>\n",
       "    </tr>\n",
       "  </thead>\n",
       "  <tbody>\n",
       "    <tr>\n",
       "      <td>0</td>\n",
       "      <td>158023</td>\n",
       "      <td>https://sofifa.com/player/158023/lionel-messi/...</td>\n",
       "      <td>L. Messi</td>\n",
       "      <td>Lionel Andrés Messi Cuccittini</td>\n",
       "      <td>32</td>\n",
       "      <td>1987-06-24</td>\n",
       "      <td>170</td>\n",
       "      <td>72</td>\n",
       "      <td>Argentina</td>\n",
       "      <td>FC Barcelona</td>\n",
       "      <td>...</td>\n",
       "      <td>68+2</td>\n",
       "      <td>66+2</td>\n",
       "      <td>66+2</td>\n",
       "      <td>66+2</td>\n",
       "      <td>68+2</td>\n",
       "      <td>63+2</td>\n",
       "      <td>52+2</td>\n",
       "      <td>52+2</td>\n",
       "      <td>52+2</td>\n",
       "      <td>63+2</td>\n",
       "    </tr>\n",
       "    <tr>\n",
       "      <td>1</td>\n",
       "      <td>20801</td>\n",
       "      <td>https://sofifa.com/player/20801/c-ronaldo-dos-...</td>\n",
       "      <td>Cristiano Ronaldo</td>\n",
       "      <td>Cristiano Ronaldo dos Santos Aveiro</td>\n",
       "      <td>34</td>\n",
       "      <td>1985-02-05</td>\n",
       "      <td>187</td>\n",
       "      <td>83</td>\n",
       "      <td>Portugal</td>\n",
       "      <td>Juventus</td>\n",
       "      <td>...</td>\n",
       "      <td>65+3</td>\n",
       "      <td>61+3</td>\n",
       "      <td>61+3</td>\n",
       "      <td>61+3</td>\n",
       "      <td>65+3</td>\n",
       "      <td>61+3</td>\n",
       "      <td>53+3</td>\n",
       "      <td>53+3</td>\n",
       "      <td>53+3</td>\n",
       "      <td>61+3</td>\n",
       "    </tr>\n",
       "    <tr>\n",
       "      <td>2</td>\n",
       "      <td>190871</td>\n",
       "      <td>https://sofifa.com/player/190871/neymar-da-sil...</td>\n",
       "      <td>Neymar Jr</td>\n",
       "      <td>Neymar da Silva Santos Junior</td>\n",
       "      <td>27</td>\n",
       "      <td>1992-02-05</td>\n",
       "      <td>175</td>\n",
       "      <td>68</td>\n",
       "      <td>Brazil</td>\n",
       "      <td>Paris Saint-Germain</td>\n",
       "      <td>...</td>\n",
       "      <td>66+3</td>\n",
       "      <td>61+3</td>\n",
       "      <td>61+3</td>\n",
       "      <td>61+3</td>\n",
       "      <td>66+3</td>\n",
       "      <td>61+3</td>\n",
       "      <td>46+3</td>\n",
       "      <td>46+3</td>\n",
       "      <td>46+3</td>\n",
       "      <td>61+3</td>\n",
       "    </tr>\n",
       "    <tr>\n",
       "      <td>3</td>\n",
       "      <td>200389</td>\n",
       "      <td>https://sofifa.com/player/200389/jan-oblak/20/...</td>\n",
       "      <td>J. Oblak</td>\n",
       "      <td>Jan Oblak</td>\n",
       "      <td>26</td>\n",
       "      <td>1993-01-07</td>\n",
       "      <td>188</td>\n",
       "      <td>87</td>\n",
       "      <td>Slovenia</td>\n",
       "      <td>Atlético Madrid</td>\n",
       "      <td>...</td>\n",
       "      <td>NaN</td>\n",
       "      <td>NaN</td>\n",
       "      <td>NaN</td>\n",
       "      <td>NaN</td>\n",
       "      <td>NaN</td>\n",
       "      <td>NaN</td>\n",
       "      <td>NaN</td>\n",
       "      <td>NaN</td>\n",
       "      <td>NaN</td>\n",
       "      <td>NaN</td>\n",
       "    </tr>\n",
       "    <tr>\n",
       "      <td>4</td>\n",
       "      <td>183277</td>\n",
       "      <td>https://sofifa.com/player/183277/eden-hazard/2...</td>\n",
       "      <td>E. Hazard</td>\n",
       "      <td>Eden Hazard</td>\n",
       "      <td>28</td>\n",
       "      <td>1991-01-07</td>\n",
       "      <td>175</td>\n",
       "      <td>74</td>\n",
       "      <td>Belgium</td>\n",
       "      <td>Real Madrid</td>\n",
       "      <td>...</td>\n",
       "      <td>66+3</td>\n",
       "      <td>63+3</td>\n",
       "      <td>63+3</td>\n",
       "      <td>63+3</td>\n",
       "      <td>66+3</td>\n",
       "      <td>61+3</td>\n",
       "      <td>49+3</td>\n",
       "      <td>49+3</td>\n",
       "      <td>49+3</td>\n",
       "      <td>61+3</td>\n",
       "    </tr>\n",
       "  </tbody>\n",
       "</table>\n",
       "<p>5 rows × 104 columns</p>\n",
       "</div>"
      ],
      "text/plain": [
       "   sofifa_id                                         player_url  \\\n",
       "0     158023  https://sofifa.com/player/158023/lionel-messi/...   \n",
       "1      20801  https://sofifa.com/player/20801/c-ronaldo-dos-...   \n",
       "2     190871  https://sofifa.com/player/190871/neymar-da-sil...   \n",
       "3     200389  https://sofifa.com/player/200389/jan-oblak/20/...   \n",
       "4     183277  https://sofifa.com/player/183277/eden-hazard/2...   \n",
       "\n",
       "          short_name                            long_name  age         dob  \\\n",
       "0           L. Messi       Lionel Andrés Messi Cuccittini   32  1987-06-24   \n",
       "1  Cristiano Ronaldo  Cristiano Ronaldo dos Santos Aveiro   34  1985-02-05   \n",
       "2          Neymar Jr        Neymar da Silva Santos Junior   27  1992-02-05   \n",
       "3           J. Oblak                            Jan Oblak   26  1993-01-07   \n",
       "4          E. Hazard                          Eden Hazard   28  1991-01-07   \n",
       "\n",
       "   height_cm  weight_kg nationality                 club  ...   lwb   ldm  \\\n",
       "0        170         72   Argentina         FC Barcelona  ...  68+2  66+2   \n",
       "1        187         83    Portugal             Juventus  ...  65+3  61+3   \n",
       "2        175         68      Brazil  Paris Saint-Germain  ...  66+3  61+3   \n",
       "3        188         87    Slovenia      Atlético Madrid  ...   NaN   NaN   \n",
       "4        175         74     Belgium          Real Madrid  ...  66+3  63+3   \n",
       "\n",
       "    cdm   rdm   rwb    lb   lcb    cb   rcb    rb  \n",
       "0  66+2  66+2  68+2  63+2  52+2  52+2  52+2  63+2  \n",
       "1  61+3  61+3  65+3  61+3  53+3  53+3  53+3  61+3  \n",
       "2  61+3  61+3  66+3  61+3  46+3  46+3  46+3  61+3  \n",
       "3   NaN   NaN   NaN   NaN   NaN   NaN   NaN   NaN  \n",
       "4  63+3  63+3  66+3  61+3  49+3  49+3  49+3  61+3  \n",
       "\n",
       "[5 rows x 104 columns]"
      ]
     },
     "execution_count": 2,
     "metadata": {},
     "output_type": "execute_result"
    }
   ],
   "source": [
    "df = pd.read_csv(\"players_20.csv\")\n",
    "df.head()"
   ]
  },
  {
   "cell_type": "code",
   "execution_count": 3,
   "metadata": {},
   "outputs": [
    {
     "name": "stdout",
     "output_type": "stream",
     "text": [
      "(18278, 104)\n",
      "sofifa_id      int64\n",
      "player_url    object\n",
      "short_name    object\n",
      "long_name     object\n",
      "age            int64\n",
      "               ...  \n",
      "lb            object\n",
      "lcb           object\n",
      "cb            object\n",
      "rcb           object\n",
      "rb            object\n",
      "Length: 104, dtype: object\n"
     ]
    }
   ],
   "source": [
    "print(df.shape)\n",
    "print(df.dtypes)"
   ]
  },
  {
   "cell_type": "code",
   "execution_count": 4,
   "metadata": {},
   "outputs": [
    {
     "name": "stdout",
     "output_type": "stream",
     "text": [
      "['sofifa_id' 'age' 'height_cm' 'weight_kg' 'overall' 'potential'\n",
      " 'value_eur' 'wage_eur' 'international_reputation' 'weak_foot'\n",
      " 'skill_moves' 'release_clause_eur' 'team_jersey_number'\n",
      " 'contract_valid_until' 'nation_jersey_number' 'pace' 'shooting' 'passing'\n",
      " 'dribbling' 'defending' 'physic' 'gk_diving' 'gk_handling' 'gk_kicking'\n",
      " 'gk_reflexes' 'gk_speed' 'gk_positioning' 'attacking_crossing'\n",
      " 'attacking_finishing' 'attacking_heading_accuracy'\n",
      " 'attacking_short_passing' 'attacking_volleys' 'skill_dribbling'\n",
      " 'skill_curve' 'skill_fk_accuracy' 'skill_long_passing'\n",
      " 'skill_ball_control' 'movement_acceleration' 'movement_sprint_speed'\n",
      " 'movement_agility' 'movement_reactions' 'movement_balance'\n",
      " 'power_shot_power' 'power_jumping' 'power_stamina' 'power_strength'\n",
      " 'power_long_shots' 'mentality_aggression' 'mentality_interceptions'\n",
      " 'mentality_positioning' 'mentality_vision' 'mentality_penalties'\n",
      " 'mentality_composure' 'defending_marking' 'defending_standing_tackle'\n",
      " 'defending_sliding_tackle' 'goalkeeping_diving' 'goalkeeping_handling'\n",
      " 'goalkeeping_kicking' 'goalkeeping_positioning' 'goalkeeping_reflexes']\n"
     ]
    }
   ],
   "source": [
    "df_numeric = df.select_dtypes(include=[np.number])\n",
    "numeric_cols = df_numeric.columns.values\n",
    "print(numeric_cols)"
   ]
  },
  {
   "cell_type": "code",
   "execution_count": 5,
   "metadata": {
    "scrolled": true
   },
   "outputs": [
    {
     "name": "stdout",
     "output_type": "stream",
     "text": [
      "['player_url' 'short_name' 'long_name' 'dob' 'nationality' 'club'\n",
      " 'player_positions' 'preferred_foot' 'work_rate' 'body_type' 'real_face'\n",
      " 'player_tags' 'team_position' 'loaned_from' 'joined' 'nation_position'\n",
      " 'player_traits' 'ls' 'st' 'rs' 'lw' 'lf' 'cf' 'rf' 'rw' 'lam' 'cam' 'ram'\n",
      " 'lm' 'lcm' 'cm' 'rcm' 'rm' 'lwb' 'ldm' 'cdm' 'rdm' 'rwb' 'lb' 'lcb' 'cb'\n",
      " 'rcb' 'rb']\n"
     ]
    }
   ],
   "source": [
    "df_non_numeric = df.select_dtypes(exclude=[np.number])\n",
    "non_numeric_cols = df_non_numeric.columns.values\n",
    "print(non_numeric_cols)"
   ]
  },
  {
   "cell_type": "markdown",
   "metadata": {},
   "source": [
    "Se revisó que el conjunto de datos tiene 18,278 observaciones y 104 características. También se identificaron las características numéricas o categóricas"
   ]
  },
  {
   "cell_type": "markdown",
   "metadata": {},
   "source": [
    "### Datos faltantes "
   ]
  },
  {
   "cell_type": "markdown",
   "metadata": {},
   "source": [
    "#### Técnica #1: mapa de calor de los datos faltantes "
   ]
  },
  {
   "cell_type": "code",
   "execution_count": 6,
   "metadata": {},
   "outputs": [
    {
     "data": {
      "text/plain": [
       "<matplotlib.axes._subplots.AxesSubplot at 0x7efbbe86af60>"
      ]
     },
     "execution_count": 6,
     "metadata": {},
     "output_type": "execute_result"
    },
    {
     "data": {
      "image/png": "[encoded data removed]",
      "text/plain": [
       "<Figure size 432x288 with 2 Axes>"
      ]
     },
     "metadata": {
      "needs_background": "light"
     },
     "output_type": "display_data"
    }
   ],
   "source": [
    "cols = df.columns\n",
    "colours = ['#EEEDED', '#00B6FF'] \n",
    "sns.heatmap(df[cols].isnull(), cmap=sns.color_palette(colours))"
   ]
  },
  {
   "cell_type": "markdown",
   "metadata": {},
   "source": [
    "#### Técnica #2: Lista de porcentaje de datos faltantes "
   ]
  },
  {
   "cell_type": "code",
   "execution_count": 7,
   "metadata": {},
   "outputs": [
    {
     "name": "stdout",
     "output_type": "stream",
     "text": [
      "release_clause_eur - 7.0%\n",
      "player_tags - 92.0%\n",
      "team_position - 1.0%\n",
      "team_jersey_number - 1.0%\n",
      "loaned_from - 94.0%\n",
      "joined - 7.0%\n",
      "contract_valid_until - 1.0%\n",
      "nation_position - 94.0%\n",
      "nation_jersey_number - 94.0%\n",
      "pace - 11.0%\n",
      "shooting - 11.0%\n",
      "passing - 11.0%\n",
      "dribbling - 11.0%\n",
      "defending - 11.0%\n",
      "physic - 11.0%\n",
      "gk_diving - 89.0%\n",
      "gk_handling - 89.0%\n",
      "gk_kicking - 89.0%\n",
      "gk_reflexes - 89.0%\n",
      "gk_speed - 89.0%\n",
      "gk_positioning - 89.0%\n",
      "player_traits - 59.0%\n",
      "ls - 11.0%\n",
      "st - 11.0%\n",
      "rs - 11.0%\n",
      "lw - 11.0%\n",
      "lf - 11.0%\n",
      "cf - 11.0%\n",
      "rf - 11.0%\n",
      "rw - 11.0%\n",
      "lam - 11.0%\n",
      "cam - 11.0%\n",
      "ram - 11.0%\n",
      "lm - 11.0%\n",
      "lcm - 11.0%\n",
      "cm - 11.0%\n",
      "rcm - 11.0%\n",
      "rm - 11.0%\n",
      "lwb - 11.0%\n",
      "ldm - 11.0%\n",
      "cdm - 11.0%\n",
      "rdm - 11.0%\n",
      "rwb - 11.0%\n",
      "lb - 11.0%\n",
      "lcb - 11.0%\n",
      "cb - 11.0%\n",
      "rcb - 11.0%\n",
      "rb - 11.0%\n"
     ]
    }
   ],
   "source": [
    "for col in df.columns:\n",
    "    pct_missing = np.mean(df[col].isnull())\n",
    "    if (pct_missing > 0):\n",
    "        print('{} - {}%'.format(col, round(pct_missing*100)))"
   ]
  },
  {
   "cell_type": "markdown",
   "metadata": {},
   "source": [
    "Muestra el porcentaje de valores faltantes para cada una de las caracteristicas, por ejemplo vemos que player_tags tiene el 92.0% de datos faltantes y nation_position tiene el 94.0% siendo las caracteristicas que presentan mas faltas y varias depende de las pocisiones de los jugadores siendo el 11% guardametas"
   ]
  },
  {
   "cell_type": "markdown",
   "metadata": {},
   "source": [
    "#### Técnica #3: Histograma de datos faltantes "
   ]
  },
  {
   "cell_type": "code",
   "execution_count": 8,
   "metadata": {},
   "outputs": [],
   "source": [
    "aux = df.copy()"
   ]
  },
  {
   "cell_type": "code",
   "execution_count": 9,
   "metadata": {},
   "outputs": [
    {
     "name": "stdout",
     "output_type": "stream",
     "text": [
      "created missing indicator for: release_clause_eur\n",
      "created missing indicator for: player_tags\n",
      "created missing indicator for: team_position\n",
      "created missing indicator for: team_jersey_number\n",
      "created missing indicator for: loaned_from\n",
      "created missing indicator for: joined\n",
      "created missing indicator for: contract_valid_until\n",
      "created missing indicator for: nation_position\n",
      "created missing indicator for: nation_jersey_number\n",
      "created missing indicator for: pace\n",
      "created missing indicator for: shooting\n",
      "created missing indicator for: passing\n",
      "created missing indicator for: dribbling\n",
      "created missing indicator for: defending\n",
      "created missing indicator for: physic\n",
      "created missing indicator for: gk_diving\n",
      "created missing indicator for: gk_handling\n",
      "created missing indicator for: gk_kicking\n",
      "created missing indicator for: gk_reflexes\n",
      "created missing indicator for: gk_speed\n",
      "created missing indicator for: gk_positioning\n",
      "created missing indicator for: player_traits\n",
      "created missing indicator for: ls\n",
      "created missing indicator for: st\n",
      "created missing indicator for: rs\n",
      "created missing indicator for: lw\n",
      "created missing indicator for: lf\n",
      "created missing indicator for: cf\n",
      "created missing indicator for: rf\n",
      "created missing indicator for: rw\n",
      "created missing indicator for: lam\n",
      "created missing indicator for: cam\n",
      "created missing indicator for: ram\n",
      "created missing indicator for: lm\n",
      "created missing indicator for: lcm\n",
      "created missing indicator for: cm\n",
      "created missing indicator for: rcm\n",
      "created missing indicator for: rm\n",
      "created missing indicator for: lwb\n",
      "created missing indicator for: ldm\n",
      "created missing indicator for: cdm\n",
      "created missing indicator for: rdm\n",
      "created missing indicator for: rwb\n",
      "created missing indicator for: lb\n",
      "created missing indicator for: lcb\n",
      "created missing indicator for: cb\n",
      "created missing indicator for: rcb\n",
      "created missing indicator for: rb\n"
     ]
    },
    {
     "data": {
      "text/plain": [
       "<matplotlib.axes._subplots.AxesSubplot at 0x7efbbe8264e0>"
      ]
     },
     "execution_count": 9,
     "metadata": {},
     "output_type": "execute_result"
    },
    {
     "data": {
      "image/png": "[encoded data removed]",
      "text/plain": [
       "<Figure size 432x288 with 1 Axes>"
      ]
     },
     "metadata": {
      "needs_background": "light"
     },
     "output_type": "display_data"
    }
   ],
   "source": [
    "for col in aux.columns:\n",
    "    missing = aux[col].isnull()\n",
    "    num_missing = np.sum(missing)\n",
    "    \n",
    "    if num_missing > 0:  \n",
    "        print('created missing indicator for: {}'.format(col))\n",
    "        aux['{}_ismissing'.format(col)] = missing\n",
    "        \n",
    "# then based on the indicator, plot the histogram of missing values\n",
    "ismissing_cols = [col for col in aux.columns if 'ismissing' in col]\n",
    "aux['num_missing'] = aux[ismissing_cols].sum(axis=1)\n",
    "\n",
    "aux['num_missing'].value_counts().reset_index().sort_values(by='index').plot.bar(x='index', y='num_missing')"
   ]
  },
  {
   "cell_type": "markdown",
   "metadata": {},
   "source": [
    "Podemos identificar que de las 18,278 mas de 8000 presentan 11 valores perdidos mientras que 5500 presentan 10"
   ]
  },
  {
   "cell_type": "markdown",
   "metadata": {},
   "source": [
    "### Analisis de las caracteristicas"
   ]
  },
  {
   "cell_type": "markdown",
   "metadata": {},
   "source": [
    "#### Técnica #1: Histograma y Box Plot"
   ]
  },
  {
   "cell_type": "markdown",
   "metadata": {},
   "source": [
    "Cuando la característica es numérica, podemos usar un histograma y un box plot para detectar los valores atípicos"
   ]
  },
  {
   "cell_type": "code",
   "execution_count": 10,
   "metadata": {},
   "outputs": [
    {
     "data": {
      "text/plain": [
       "<matplotlib.axes._subplots.AxesSubplot at 0x7efbbe808e10>"
      ]
     },
     "execution_count": 10,
     "metadata": {},
     "output_type": "execute_result"
    },
    {
     "data": {
      "image/png": "[encoded data removed]",
      "text/plain": [
       "<Figure size 432x288 with 1 Axes>"
      ]
     },
     "metadata": {
      "needs_background": "light"
     },
     "output_type": "display_data"
    }
   ],
   "source": [
    "df['height_cm'].hist(bins=100)"
   ]
  },
  {
   "cell_type": "code",
   "execution_count": 11,
   "metadata": {},
   "outputs": [
    {
     "data": {
      "text/plain": [
       "<matplotlib.axes._subplots.AxesSubplot at 0x7efbbe48ef60>"
      ]
     },
     "execution_count": 11,
     "metadata": {},
     "output_type": "execute_result"
    },
    {
     "data": {
      "image/png": "[encoded data removed]",
      "text/plain": [
       "<Figure size 432x288 with 1 Axes>"
      ]
     },
     "metadata": {
      "needs_background": "light"
     },
     "output_type": "display_data"
    }
   ],
   "source": [
    "df.boxplot(column=['height_cm'])"
   ]
  },
  {
   "cell_type": "markdown",
   "metadata": {},
   "source": [
    "#### Técnica #3: Estadística descriptiva "
   ]
  },
  {
   "cell_type": "code",
   "execution_count": 12,
   "metadata": {},
   "outputs": [
    {
     "data": {
      "text/plain": [
       "count    18278.000000\n",
       "mean       181.362184\n",
       "std          6.756961\n",
       "min        156.000000\n",
       "25%        177.000000\n",
       "50%        181.000000\n",
       "75%        186.000000\n",
       "max        205.000000\n",
       "Name: height_cm, dtype: float64"
      ]
     },
     "execution_count": 12,
     "metadata": {},
     "output_type": "execute_result"
    }
   ],
   "source": [
    "df['height_cm'].describe()"
   ]
  },
  {
   "cell_type": "markdown",
   "metadata": {},
   "source": [
    "#### Técnica #3: Gráfico de barras "
   ]
  },
  {
   "cell_type": "markdown",
   "metadata": {},
   "source": [
    "Cuando la característica es categórica podemos usar un gráfico de barras para aprender sobre sus categorías y distribución"
   ]
  },
  {
   "cell_type": "code",
   "execution_count": 13,
   "metadata": {},
   "outputs": [
    {
     "data": {
      "text/plain": [
       "<matplotlib.axes._subplots.AxesSubplot at 0x7efbbe413828>"
      ]
     },
     "execution_count": 13,
     "metadata": {},
     "output_type": "execute_result"
    },
    {
     "data": {
      "image/png": "[encoded data removed]",
      "text/plain": [
       "<Figure size 432x288 with 1 Axes>"
      ]
     },
     "metadata": {
      "needs_background": "light"
     },
     "output_type": "display_data"
    }
   ],
   "source": [
    "df['preferred_foot'].value_counts().plot.bar()"
   ]
  },
  {
   "cell_type": "markdown",
   "metadata": {},
   "source": [
    "### Datos innecesarios "
   ]
  },
  {
   "cell_type": "markdown",
   "metadata": {},
   "source": [
    "#### Tipo innecesario #1: Deinformativo / Repetitivo "
   ]
  },
  {
   "cell_type": "code",
   "execution_count": 14,
   "metadata": {},
   "outputs": [
    {
     "name": "stdout",
     "output_type": "stream",
     "text": [
      "international_reputation: 91.88095%\n",
      "1    16794\n",
      "2     1140\n",
      "3      292\n",
      "4       46\n",
      "5        6\n",
      "Name: international_reputation, dtype: int64\n",
      "\n",
      "player_tags: 91.79888%\n",
      "NaN                                                                                16779\n",
      "#Strength                                                                            514\n",
      "#Acrobat                                                                             238\n",
      "#Engine                                                                              209\n",
      "#Speedster                                                                           156\n",
      "                                                                                   ...  \n",
      "#Dribbler, #Crosser, #Acrobat                                                          1\n",
      "#Aerial Threat, #Tackling , #Strength                                                  1\n",
      "#Dribbler, #Acrobat, #Clinical Finisher, #Complete Forward                             1\n",
      "#Acrobat, #Clinical Finisher                                                           1\n",
      "#Playmaker  , #Distance Shooter, #Crosser, #FK Specialist, #Complete Midfielder        1\n",
      "Name: player_tags, Length: 84, dtype: int64\n",
      "\n",
      "loaned_from: 94.26633%\n",
      "NaN                  17230\n",
      "Sassuolo                17\n",
      "Atalanta                17\n",
      "SL Benfica              14\n",
      "Inter                   14\n",
      "                     ...  \n",
      "Querétaro                1\n",
      "Colchester United        1\n",
      "Coventry City            1\n",
      "Club Necaxa              1\n",
      "Crewe Alexandra          1\n",
      "Name: loaned_from, Length: 317, dtype: int64\n",
      "\n",
      "nation_position: 93.83959%\n",
      "NaN    17152\n",
      "SUB      587\n",
      "GK        49\n",
      "LCB       49\n",
      "RCB       49\n",
      "RB        46\n",
      "LB        46\n",
      "ST        43\n",
      "RCM       36\n",
      "LCM       36\n",
      "RM        29\n",
      "LM        29\n",
      "CAM       22\n",
      "CDM       21\n",
      "LW        19\n",
      "RW        19\n",
      "RDM       12\n",
      "LDM       12\n",
      "RS         6\n",
      "LS         6\n",
      "CB         3\n",
      "CM         2\n",
      "RWB        1\n",
      "LF         1\n",
      "CF         1\n",
      "RF         1\n",
      "LWB        1\n",
      "Name: nation_position, dtype: int64\n",
      "\n",
      "nation_jersey_number: 93.83959%\n",
      "NaN     17152\n",
      "19.0       49\n",
      "1.0        49\n",
      "3.0        49\n",
      "6.0        49\n",
      "2.0        49\n",
      "12.0       49\n",
      "17.0       49\n",
      "9.0        49\n",
      "15.0       49\n",
      "23.0       49\n",
      "18.0       49\n",
      "14.0       49\n",
      "20.0       49\n",
      "21.0       49\n",
      "13.0       48\n",
      "5.0        48\n",
      "11.0       48\n",
      "10.0       48\n",
      "4.0        48\n",
      "7.0        48\n",
      "16.0       48\n",
      "8.0        48\n",
      "22.0       48\n",
      "24.0        2\n",
      "27.0        1\n",
      "28.0        1\n",
      "30.0        1\n",
      "29.0        1\n",
      "25.0        1\n",
      "26.0        1\n",
      "Name: nation_jersey_number, dtype: int64\n",
      "\n"
     ]
    }
   ],
   "source": [
    "num_rows = len(df.index)\n",
    "low_information_cols = [] #\n",
    "\n",
    "for col in df.columns:\n",
    "    cnts = df[col].value_counts(dropna=False)\n",
    "    top_pct = (cnts/num_rows).iloc[0]\n",
    "    \n",
    "    if top_pct > 0.90:\n",
    "        low_information_cols.append(col)\n",
    "        print('{0}: {1:.5f}%'.format(col, top_pct*100))\n",
    "        print(cnts)\n",
    "        print()"
   ]
  },
  {
   "cell_type": "markdown",
   "metadata": {},
   "source": [
    "Podemos crear una lista de características con un alto porcentaje del mismo valor.Por ejemplo la mayoria tiene una reputación internacional de 1, además podemos ver que player_tags, nation_jersey_number, loaned_from, player_tags la mayoria de las observaciones son datos faltantes"
   ]
  },
  {
   "cell_type": "markdown",
   "metadata": {},
   "source": [
    "#### Tipo innecesario #2:Irrelevante "
   ]
  },
  {
   "cell_type": "markdown",
   "metadata": {},
   "source": [
    "En este tipo de datos innecesario depende del problema que estamos tratando de resolver para decidir si una caracteristica es irrelevante o no"
   ]
  },
  {
   "cell_type": "markdown",
   "metadata": {},
   "source": [
    "#### Tipo innecesario #3: Duplicados "
   ]
  },
  {
   "cell_type": "markdown",
   "metadata": {},
   "source": [
    "#####  Duplicados tipo #1: todas las características"
   ]
  },
  {
   "cell_type": "code",
   "execution_count": 15,
   "metadata": {},
   "outputs": [
    {
     "name": "stdout",
     "output_type": "stream",
     "text": [
      "(18278, 104)\n",
      "(18278, 103)\n"
     ]
    }
   ],
   "source": [
    "df_dedupped = df.drop(['sofifa_id'], axis=1).drop_duplicates()\n",
    "\n",
    "# there were duplicate rows\n",
    "print(df.shape)\n",
    "print(df_dedupped.shape)"
   ]
  },
  {
   "cell_type": "markdown",
   "metadata": {},
   "source": [
    "No se tiene datos duplicados del tipo 1"
   ]
  },
  {
   "cell_type": "markdown",
   "metadata": {},
   "source": [
    "##### Duplicados tipo #2: características claves"
   ]
  },
  {
   "cell_type": "code",
   "execution_count": 16,
   "metadata": {},
   "outputs": [
    {
     "data": {
      "text/plain": [
       "long_name                          dob       \n",
       "황희찬 黄喜灿                            1996-01-26    1\n",
       "Gonzalo Verón                      1989-12-24    1\n",
       "Gonzalo Montiel                    1997-01-01    1\n",
       "Gonzalo Nicolás Martínez           1993-06-13    1\n",
       "Gonzalo Pablo Castellani           1987-08-10    1\n",
       "Gonzalo Piovi                      1994-09-08    1\n",
       "Gonzalo Plata                      2000-11-01    1\n",
       "Gonzalo Rehak                      1993-04-11    1\n",
       "Gonzalo Villar del Fraile          1998-03-23    1\n",
       "Gonzalo Julián Melero Manzanares   1994-01-02    1\n",
       "Gonzalo Ávila Gordón               1998-01-26    1\n",
       "Gonçalo Alexandre Glórias Tavares  1997-05-16    1\n",
       "Gonçalo Bento Soares Cardoso       2000-10-21    1\n",
       "Gonçalo Domingues Agrelos          1998-02-18    1\n",
       "Gonçalo Filipe Oliveira Silva      1991-06-04    1\n",
       "Gonçalo Manuel Ganchinho Guedes    1996-11-29    1\n",
       "Gonzalo Maroni                     1999-03-18    1\n",
       "Gonzalo Javier Rodríguez           1984-04-10    1\n",
       "Gonçalo Rosa Pereira Rodrigues     1997-07-18    1\n",
       "Gonzalo Bettini                    1992-09-26    1\n",
       "Name: sofifa_id, dtype: int64"
      ]
     },
     "execution_count": 16,
     "metadata": {},
     "output_type": "execute_result"
    }
   ],
   "source": [
    "key = ['long_name','dob']\n",
    "df.fillna(-999).groupby(key)['sofifa_id'].count().sort_values(ascending=False).head(20)"
   ]
  },
  {
   "cell_type": "markdown",
   "metadata": {},
   "source": [
    "La probabilidad de que dos jugadores tengan el mismo nombre y la misma fecha de nacimiento como en este dataset"
   ]
  },
  {
   "cell_type": "markdown",
   "metadata": {},
   "source": [
    "### Datos inconsistentes "
   ]
  },
  {
   "cell_type": "markdown",
   "metadata": {},
   "source": [
    "####  Tipo inconsistente #1: Capitalización"
   ]
  },
  {
   "cell_type": "markdown",
   "metadata": {},
   "source": [
    "El uso inconsistente de las mayúsculas y minúsculas en los valores categóricos es un error común. Podría causar problemas ya que los análisis en Python son sensibles a las mayúsculas y minúsculas, para este dataset revisaremos las caracteristicas long_name,nationality,club"
   ]
  },
  {
   "cell_type": "code",
   "execution_count": 17,
   "metadata": {},
   "outputs": [],
   "source": [
    "var = ['long_name','nationality','club']"
   ]
  },
  {
   "cell_type": "code",
   "execution_count": 31,
   "metadata": {},
   "outputs": [
    {
     "name": "stdout",
     "output_type": "stream",
     "text": [
      "Liam Kelly                3\n",
      "Danny Ward                2\n",
      "Michael Rose              2\n",
      "Daniel Jones              2\n",
      "Javier López Rodríguez    2\n",
      "Ethan Ross                2\n",
      "Michael Smith             2\n",
      "Andrei Cristea            2\n",
      "Rodrigo González          2\n",
      "Tobias Müller             2\n",
      "Name: long_name, dtype: int64\n",
      "England        1667\n",
      "Germany        1216\n",
      "Spain          1035\n",
      "France          984\n",
      "Argentina       886\n",
      "Brazil          824\n",
      "Italy           732\n",
      "Colombia        591\n",
      "Japan           453\n",
      "Netherlands     416\n",
      "Name: nationality, dtype: int64\n",
      "Aston Villa                 33\n",
      "SC Paderborn 07             33\n",
      "Atlético Madrid             33\n",
      "Hertha BSC                  33\n",
      "Deportivo Alavés            33\n",
      "Lazio                       33\n",
      "Norwich City                33\n",
      "Borussia Mönchengladbach    33\n",
      "Sevilla FC                  33\n",
      "Fortuna Düsseldorf          33\n",
      "Name: club, dtype: int64\n"
     ]
    }
   ],
   "source": [
    "for i in var:\n",
    "    print(df[i].value_counts(dropna=False)[:10])"
   ]
  },
  {
   "cell_type": "code",
   "execution_count": 19,
   "metadata": {},
   "outputs": [],
   "source": [
    "aux = df[var].copy()"
   ]
  },
  {
   "cell_type": "code",
   "execution_count": 20,
   "metadata": {},
   "outputs": [
    {
     "name": "stdout",
     "output_type": "stream",
     "text": [
      "liam kelly                    3\n",
      "ben davies                    2\n",
      "李帅                            2\n",
      "michael kelly                 2\n",
      "ladislav krejčí               2\n",
      "                             ..\n",
      "chris neal                    1\n",
      "joe widdowson                 1\n",
      "jamie proctor                 1\n",
      "jonathan silva                1\n",
      "omar israel mendoza martín    1\n",
      "Name: long_name, Length: 18218, dtype: int64\n",
      "england           1667\n",
      "germany           1216\n",
      "spain             1035\n",
      "france             984\n",
      "argentina          886\n",
      "                  ... \n",
      "chinese taipei       1\n",
      "chad                 1\n",
      "south sudan          1\n",
      "vietnam              1\n",
      "indonesia            1\n",
      "Name: nationality, Length: 162, dtype: int64\n",
      "sc paderborn 07               33\n",
      "bournemouth                   33\n",
      "manchester city               33\n",
      "vfl wolfsburg                 33\n",
      "watford                       33\n",
      "                              ..\n",
      "netherlands                    1\n",
      "canada                         1\n",
      "us orléans loiret football     1\n",
      "gif sundsvall                  1\n",
      "colombia                       1\n",
      "Name: club, Length: 698, dtype: int64\n"
     ]
    }
   ],
   "source": [
    "for i in var:\n",
    "    aux[i] = df[i].str.lower()\n",
    "    print(aux[i].value_counts(dropna=False))"
   ]
  },
  {
   "cell_type": "markdown",
   "metadata": {},
   "source": [
    "#### Tipo inconsistente #2: Formatos "
   ]
  },
  {
   "cell_type": "markdown",
   "metadata": {},
   "source": [
    "Otra estandarización que debemos realizar es la de los formatos de datos. Un ejemplo es convertir una característica que incluya una fecha al formato DateTime."
   ]
  },
  {
   "cell_type": "code",
   "execution_count": 21,
   "metadata": {},
   "outputs": [
    {
     "data": {
      "text/plain": [
       "1992-02-29    113\n",
       "1984-02-29    111\n",
       "1988-02-29    110\n",
       "1997-01-01     15\n",
       "2001-01-01     13\n",
       "             ... \n",
       "1994-12-10      1\n",
       "1982-09-09      1\n",
       "2000-06-14      1\n",
       "1980-08-20      1\n",
       "1985-10-07      1\n",
       "Name: dob, Length: 6142, dtype: int64"
      ]
     },
     "execution_count": 21,
     "metadata": {},
     "output_type": "execute_result"
    }
   ],
   "source": [
    "df.dob.value_counts()"
   ]
  },
  {
   "cell_type": "code",
   "execution_count": 22,
   "metadata": {},
   "outputs": [
    {
     "data": {
      "text/plain": [
       "count          18278\n",
       "unique          6142\n",
       "top       1992-02-29\n",
       "freq             113\n",
       "Name: dob, dtype: object"
      ]
     },
     "execution_count": 22,
     "metadata": {},
     "output_type": "execute_result"
    }
   ],
   "source": [
    "df.dob.describe()"
   ]
  },
  {
   "cell_type": "code",
   "execution_count": 23,
   "metadata": {},
   "outputs": [],
   "source": [
    "df['dob'] = pd.to_datetime(df['dob'],format='%Y-%m-%d')"
   ]
  },
  {
   "cell_type": "code",
   "execution_count": 27,
   "metadata": {},
   "outputs": [
    {
     "data": {
      "text/plain": [
       "dob    datetime64[ns]\n",
       "dtype: object"
      ]
     },
     "execution_count": 27,
     "metadata": {},
     "output_type": "execute_result"
    }
   ],
   "source": [
    "df[['dob']].dtypes"
   ]
  },
  {
   "cell_type": "markdown",
   "metadata": {},
   "source": [
    "#### Tipo inconsistente #3: Valores categóricos"
   ]
  },
  {
   "cell_type": "code",
   "execution_count": 38,
   "metadata": {},
   "outputs": [],
   "source": [
    "nacionalidades = ['England','Germany','Spain','France','Argentina']"
   ]
  },
  {
   "cell_type": "code",
   "execution_count": 42,
   "metadata": {},
   "outputs": [],
   "source": [
    "df_nationality = pd.DataFrame(data = {'nationality': list(df.nationality)})"
   ]
  },
  {
   "cell_type": "code",
   "execution_count": 45,
   "metadata": {},
   "outputs": [],
   "source": [
    "from nltk.metrics import edit_distance\n",
    "for i in nacionalidades:\n",
    "    df_nationality['nac_distance_'+str(i)] = df_nationality['nationality'].map(lambda x: edit_distance(x,i))"
   ]
  },
  {
   "cell_type": "code",
   "execution_count": 46,
   "metadata": {},
   "outputs": [
    {
     "data": {
      "text/html": [
       "<div>\n",
       "<style scoped>\n",
       "    .dataframe tbody tr th:only-of-type {\n",
       "        vertical-align: middle;\n",
       "    }\n",
       "\n",
       "    .dataframe tbody tr th {\n",
       "        vertical-align: top;\n",
       "    }\n",
       "\n",
       "    .dataframe thead th {\n",
       "        text-align: right;\n",
       "    }\n",
       "</style>\n",
       "<table border=\"1\" class=\"dataframe\">\n",
       "  <thead>\n",
       "    <tr style=\"text-align: right;\">\n",
       "      <th></th>\n",
       "      <th>nationality</th>\n",
       "      <th>nac_distance_England</th>\n",
       "      <th>nac_distance_Germany</th>\n",
       "      <th>nac_distance_Spain</th>\n",
       "      <th>nac_distance_France</th>\n",
       "      <th>nac_distance_Argentina</th>\n",
       "    </tr>\n",
       "  </thead>\n",
       "  <tbody>\n",
       "    <tr>\n",
       "      <td>0</td>\n",
       "      <td>Argentina</td>\n",
       "      <td>7</td>\n",
       "      <td>7</td>\n",
       "      <td>7</td>\n",
       "      <td>7</td>\n",
       "      <td>0</td>\n",
       "    </tr>\n",
       "    <tr>\n",
       "      <td>1</td>\n",
       "      <td>Portugal</td>\n",
       "      <td>8</td>\n",
       "      <td>7</td>\n",
       "      <td>8</td>\n",
       "      <td>7</td>\n",
       "      <td>8</td>\n",
       "    </tr>\n",
       "    <tr>\n",
       "      <td>2</td>\n",
       "      <td>Brazil</td>\n",
       "      <td>7</td>\n",
       "      <td>6</td>\n",
       "      <td>4</td>\n",
       "      <td>4</td>\n",
       "      <td>7</td>\n",
       "    </tr>\n",
       "    <tr>\n",
       "      <td>3</td>\n",
       "      <td>Slovenia</td>\n",
       "      <td>7</td>\n",
       "      <td>7</td>\n",
       "      <td>6</td>\n",
       "      <td>7</td>\n",
       "      <td>6</td>\n",
       "    </tr>\n",
       "    <tr>\n",
       "      <td>4</td>\n",
       "      <td>Belgium</td>\n",
       "      <td>7</td>\n",
       "      <td>6</td>\n",
       "      <td>6</td>\n",
       "      <td>7</td>\n",
       "      <td>7</td>\n",
       "    </tr>\n",
       "    <tr>\n",
       "      <td>...</td>\n",
       "      <td>...</td>\n",
       "      <td>...</td>\n",
       "      <td>...</td>\n",
       "      <td>...</td>\n",
       "      <td>...</td>\n",
       "      <td>...</td>\n",
       "    </tr>\n",
       "    <tr>\n",
       "      <td>18273</td>\n",
       "      <td>China PR</td>\n",
       "      <td>7</td>\n",
       "      <td>7</td>\n",
       "      <td>7</td>\n",
       "      <td>7</td>\n",
       "      <td>8</td>\n",
       "    </tr>\n",
       "    <tr>\n",
       "      <td>18274</td>\n",
       "      <td>China PR</td>\n",
       "      <td>7</td>\n",
       "      <td>7</td>\n",
       "      <td>7</td>\n",
       "      <td>7</td>\n",
       "      <td>8</td>\n",
       "    </tr>\n",
       "    <tr>\n",
       "      <td>18275</td>\n",
       "      <td>China PR</td>\n",
       "      <td>7</td>\n",
       "      <td>7</td>\n",
       "      <td>7</td>\n",
       "      <td>7</td>\n",
       "      <td>8</td>\n",
       "    </tr>\n",
       "    <tr>\n",
       "      <td>18276</td>\n",
       "      <td>China PR</td>\n",
       "      <td>7</td>\n",
       "      <td>7</td>\n",
       "      <td>7</td>\n",
       "      <td>7</td>\n",
       "      <td>8</td>\n",
       "    </tr>\n",
       "    <tr>\n",
       "      <td>18277</td>\n",
       "      <td>China PR</td>\n",
       "      <td>7</td>\n",
       "      <td>7</td>\n",
       "      <td>7</td>\n",
       "      <td>7</td>\n",
       "      <td>8</td>\n",
       "    </tr>\n",
       "  </tbody>\n",
       "</table>\n",
       "<p>18278 rows × 6 columns</p>\n",
       "</div>"
      ],
      "text/plain": [
       "      nationality  nac_distance_England  nac_distance_Germany  \\\n",
       "0       Argentina                     7                     7   \n",
       "1        Portugal                     8                     7   \n",
       "2          Brazil                     7                     6   \n",
       "3        Slovenia                     7                     7   \n",
       "4         Belgium                     7                     6   \n",
       "...           ...                   ...                   ...   \n",
       "18273    China PR                     7                     7   \n",
       "18274    China PR                     7                     7   \n",
       "18275    China PR                     7                     7   \n",
       "18276    China PR                     7                     7   \n",
       "18277    China PR                     7                     7   \n",
       "\n",
       "       nac_distance_Spain  nac_distance_France  nac_distance_Argentina  \n",
       "0                       7                    7                       0  \n",
       "1                       8                    7                       8  \n",
       "2                       4                    4                       7  \n",
       "3                       6                    7                       6  \n",
       "4                       6                    7                       7  \n",
       "...                   ...                  ...                     ...  \n",
       "18273                   7                    7                       8  \n",
       "18274                   7                    7                       8  \n",
       "18275                   7                    7                       8  \n",
       "18276                   7                    7                       8  \n",
       "18277                   7                    7                       8  \n",
       "\n",
       "[18278 rows x 6 columns]"
      ]
     },
     "execution_count": 46,
     "metadata": {},
     "output_type": "execute_result"
    }
   ],
   "source": [
    "df_nationality"
   ]
  },
  {
   "cell_type": "markdown",
   "metadata": {},
   "source": [
    "#### Tipo inconsistente #4: Direcciones"
   ]
  },
  {
   "cell_type": "markdown",
   "metadata": {},
   "source": [
    "La característica de la dirección podría ser un dolor de cabeza para muchos de nosotros. Porque la gente que introduce los datos en la base de datos a menudo no sigue un formato estándar sin embargo no contenemos direcciones en este dataset "
   ]
  }
 ],
 "metadata": {
  "kernelspec": {
   "display_name": "Python 3",
   "language": "python",
   "name": "python3"
  },
  "language_info": {
   "codemirror_mode": {
    "name": "ipython",
    "version": 3
   },
   "file_extension": ".py",
   "mimetype": "text/x-python",
   "name": "python",
   "nbconvert_exporter": "python",
   "pygments_lexer": "ipython3",
   "version": "3.6.8"
  }
 },
 "nbformat": 4,
 "nbformat_minor": 2
}
